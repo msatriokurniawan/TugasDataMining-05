{
  "nbformat": 4,
  "nbformat_minor": 0,
  "metadata": {
    "colab": {
      "provenance": []
    },
    "kernelspec": {
      "name": "python3",
      "display_name": "Python 3"
    },
    "language_info": {
      "name": "python"
    }
  },
  "cells": [
    {
      "cell_type": "code",
      "execution_count": 1,
      "metadata": {
        "id": "U-SGdUA-WklD"
      },
      "outputs": [],
      "source": [
        "import numpy as np\n",
        "import matplotlib.pyplot as plt\n",
        "import pandas as pd"
      ]
    },
    {
      "cell_type": "code",
      "source": [
        "dataset = pd.read_csv('Data2_Social_Network.csv')\n",
        "X = dataset.iloc[:, [2, 3]].values\n",
        "y = dataset.iloc[:, -1].values"
      ],
      "metadata": {
        "id": "pUbvKWuPW0kd"
      },
      "execution_count": 5,
      "outputs": []
    },
    {
      "cell_type": "code",
      "source": [
        "X"
      ],
      "metadata": {
        "colab": {
          "base_uri": "https://localhost:8080/"
        },
        "id": "88GYDqYhW01T",
        "outputId": "eff9922c-d367-41d0-c40f-85c53ed9f093"
      },
      "execution_count": 6,
      "outputs": [
        {
          "output_type": "execute_result",
          "data": {
            "text/plain": [
              "array([[    19,  19000],\n",
              "       [    35,  20000],\n",
              "       [    26,  43000],\n",
              "       [    27,  57000],\n",
              "       [    19,  76000],\n",
              "       [    27,  58000],\n",
              "       [    27,  84000],\n",
              "       [    32, 150000],\n",
              "       [    25,  33000],\n",
              "       [    35,  65000],\n",
              "       [    26,  80000],\n",
              "       [    26,  52000],\n",
              "       [    20,  86000],\n",
              "       [    32,  18000],\n",
              "       [    18,  82000],\n",
              "       [    29,  80000],\n",
              "       [    47,  25000],\n",
              "       [    45,  26000],\n",
              "       [    46,  28000],\n",
              "       [    48,  29000],\n",
              "       [    45,  22000],\n",
              "       [    47,  49000],\n",
              "       [    48,  41000],\n",
              "       [    45,  22000],\n",
              "       [    46,  23000],\n",
              "       [    47,  20000],\n",
              "       [    49,  28000],\n",
              "       [    47,  30000],\n",
              "       [    29,  43000],\n",
              "       [    31,  18000],\n",
              "       [    31,  74000],\n",
              "       [    27, 137000],\n",
              "       [    21,  16000],\n",
              "       [    28,  44000],\n",
              "       [    27,  90000],\n",
              "       [    35,  27000],\n",
              "       [    33,  28000],\n",
              "       [    30,  49000],\n",
              "       [    26,  72000],\n",
              "       [    27,  31000],\n",
              "       [    27,  17000],\n",
              "       [    33,  51000],\n",
              "       [    35, 108000],\n",
              "       [    30,  15000],\n",
              "       [    28,  84000],\n",
              "       [    23,  20000],\n",
              "       [    25,  79000],\n",
              "       [    27,  54000],\n",
              "       [    30, 135000],\n",
              "       [    31,  89000],\n",
              "       [    24,  32000],\n",
              "       [    18,  44000],\n",
              "       [    29,  83000],\n",
              "       [    35,  23000],\n",
              "       [    27,  58000],\n",
              "       [    24,  55000],\n",
              "       [    23,  48000],\n",
              "       [    28,  79000],\n",
              "       [    22,  18000],\n",
              "       [    32, 117000],\n",
              "       [    27,  20000],\n",
              "       [    25,  87000],\n",
              "       [    23,  66000],\n",
              "       [    32, 120000],\n",
              "       [    59,  83000],\n",
              "       [    24,  58000],\n",
              "       [    24,  19000],\n",
              "       [    23,  82000],\n",
              "       [    22,  63000],\n",
              "       [    31,  68000],\n",
              "       [    25,  80000],\n",
              "       [    24,  27000],\n",
              "       [    20,  23000],\n",
              "       [    33, 113000],\n",
              "       [    32,  18000],\n",
              "       [    34, 112000],\n",
              "       [    18,  52000],\n",
              "       [    22,  27000],\n",
              "       [    28,  87000],\n",
              "       [    26,  17000],\n",
              "       [    30,  80000],\n",
              "       [    39,  42000],\n",
              "       [    20,  49000],\n",
              "       [    35,  88000],\n",
              "       [    30,  62000],\n",
              "       [    31, 118000],\n",
              "       [    24,  55000],\n",
              "       [    28,  85000],\n",
              "       [    26,  81000],\n",
              "       [    35,  50000],\n",
              "       [    22,  81000],\n",
              "       [    30, 116000],\n",
              "       [    26,  15000],\n",
              "       [    29,  28000],\n",
              "       [    29,  83000],\n",
              "       [    35,  44000],\n",
              "       [    35,  25000],\n",
              "       [    28, 123000],\n",
              "       [    35,  73000],\n",
              "       [    28,  37000],\n",
              "       [    27,  88000],\n",
              "       [    28,  59000],\n",
              "       [    32,  86000],\n",
              "       [    33, 149000],\n",
              "       [    19,  21000],\n",
              "       [    21,  72000],\n",
              "       [    26,  35000],\n",
              "       [    27,  89000],\n",
              "       [    26,  86000],\n",
              "       [    38,  80000],\n",
              "       [    39,  71000],\n",
              "       [    37,  71000],\n",
              "       [    38,  61000],\n",
              "       [    37,  55000],\n",
              "       [    42,  80000],\n",
              "       [    40,  57000],\n",
              "       [    35,  75000],\n",
              "       [    36,  52000],\n",
              "       [    40,  59000],\n",
              "       [    41,  59000],\n",
              "       [    36,  75000],\n",
              "       [    37,  72000],\n",
              "       [    40,  75000],\n",
              "       [    35,  53000],\n",
              "       [    41,  51000],\n",
              "       [    39,  61000],\n",
              "       [    42,  65000],\n",
              "       [    26,  32000],\n",
              "       [    30,  17000],\n",
              "       [    26,  84000],\n",
              "       [    31,  58000],\n",
              "       [    33,  31000],\n",
              "       [    30,  87000],\n",
              "       [    21,  68000],\n",
              "       [    28,  55000],\n",
              "       [    23,  63000],\n",
              "       [    20,  82000],\n",
              "       [    30, 107000],\n",
              "       [    28,  59000],\n",
              "       [    19,  25000],\n",
              "       [    19,  85000],\n",
              "       [    18,  68000],\n",
              "       [    35,  59000],\n",
              "       [    30,  89000],\n",
              "       [    34,  25000],\n",
              "       [    24,  89000],\n",
              "       [    27,  96000],\n",
              "       [    41,  30000],\n",
              "       [    29,  61000],\n",
              "       [    20,  74000],\n",
              "       [    26,  15000],\n",
              "       [    41,  45000],\n",
              "       [    31,  76000],\n",
              "       [    36,  50000],\n",
              "       [    40,  47000],\n",
              "       [    31,  15000],\n",
              "       [    46,  59000],\n",
              "       [    29,  75000],\n",
              "       [    26,  30000],\n",
              "       [    32, 135000],\n",
              "       [    32, 100000],\n",
              "       [    25,  90000],\n",
              "       [    37,  33000],\n",
              "       [    35,  38000],\n",
              "       [    33,  69000],\n",
              "       [    18,  86000],\n",
              "       [    22,  55000],\n",
              "       [    35,  71000],\n",
              "       [    29, 148000],\n",
              "       [    29,  47000],\n",
              "       [    21,  88000],\n",
              "       [    34, 115000],\n",
              "       [    26, 118000],\n",
              "       [    34,  43000],\n",
              "       [    34,  72000],\n",
              "       [    23,  28000],\n",
              "       [    35,  47000],\n",
              "       [    25,  22000],\n",
              "       [    24,  23000],\n",
              "       [    31,  34000],\n",
              "       [    26,  16000],\n",
              "       [    31,  71000],\n",
              "       [    32, 117000],\n",
              "       [    33,  43000],\n",
              "       [    33,  60000],\n",
              "       [    31,  66000],\n",
              "       [    20,  82000],\n",
              "       [    33,  41000],\n",
              "       [    35,  72000],\n",
              "       [    28,  32000],\n",
              "       [    24,  84000],\n",
              "       [    19,  26000],\n",
              "       [    29,  43000],\n",
              "       [    19,  70000],\n",
              "       [    28,  89000],\n",
              "       [    34,  43000],\n",
              "       [    30,  79000],\n",
              "       [    20,  36000],\n",
              "       [    26,  80000]])"
            ]
          },
          "metadata": {},
          "execution_count": 6
        }
      ]
    },
    {
      "cell_type": "code",
      "source": [
        "from sklearn.model_selection import train_test_split\n",
        "X_train, X_test, y_train, y_test = train_test_split(X, y, test_size = 0.25, random_state = 0)"
      ],
      "metadata": {
        "id": "mmBDMx8tXTT6"
      },
      "execution_count": 7,
      "outputs": []
    },
    {
      "cell_type": "code",
      "source": [
        "X_train"
      ],
      "metadata": {
        "colab": {
          "base_uri": "https://localhost:8080/"
        },
        "id": "s0beH-0_XT_B",
        "outputId": "27e633dc-0b4e-407d-d4b4-3a57392fcf1b"
      },
      "execution_count": 8,
      "outputs": [
        {
          "output_type": "execute_result",
          "data": {
            "text/plain": [
              "array([[    24,  27000],\n",
              "       [    30,  79000],\n",
              "       [    24,  55000],\n",
              "       [    35,  25000],\n",
              "       [    20,  74000],\n",
              "       [    46,  23000],\n",
              "       [    31,  74000],\n",
              "       [    37,  55000],\n",
              "       [    27,  17000],\n",
              "       [    23,  48000],\n",
              "       [    31,  58000],\n",
              "       [    32, 117000],\n",
              "       [    26,  16000],\n",
              "       [    48,  29000],\n",
              "       [    31,  76000],\n",
              "       [    20,  82000],\n",
              "       [    27,  58000],\n",
              "       [    37,  33000],\n",
              "       [    18,  44000],\n",
              "       [    38,  61000],\n",
              "       [    28,  59000],\n",
              "       [    35,  50000],\n",
              "       [    22,  81000],\n",
              "       [    35,  53000],\n",
              "       [    30,  89000],\n",
              "       [    31,  71000],\n",
              "       [    26,  86000],\n",
              "       [    18,  82000],\n",
              "       [    47,  30000],\n",
              "       [    28,  59000],\n",
              "       [    40,  59000],\n",
              "       [    25,  79000],\n",
              "       [    28,  89000],\n",
              "       [    27,  89000],\n",
              "       [    23,  66000],\n",
              "       [    26,  43000],\n",
              "       [    32, 117000],\n",
              "       [    34,  43000],\n",
              "       [    42,  65000],\n",
              "       [    30,  15000],\n",
              "       [    26,  80000],\n",
              "       [    20,  82000],\n",
              "       [    33, 113000],\n",
              "       [    19,  26000],\n",
              "       [    25,  22000],\n",
              "       [    35,  71000],\n",
              "       [    39,  61000],\n",
              "       [    29,  28000],\n",
              "       [    37,  71000],\n",
              "       [    29,  75000],\n",
              "       [    24,  84000],\n",
              "       [    24,  32000],\n",
              "       [    19,  19000],\n",
              "       [    29,  83000],\n",
              "       [    38,  80000],\n",
              "       [    35,  44000],\n",
              "       [    59,  83000],\n",
              "       [    18,  68000],\n",
              "       [    33,  51000],\n",
              "       [    31,  68000],\n",
              "       [    31,  89000],\n",
              "       [    30, 135000],\n",
              "       [    31, 118000],\n",
              "       [    32,  18000],\n",
              "       [    26,  15000],\n",
              "       [    45,  22000],\n",
              "       [    31,  66000],\n",
              "       [    28,  55000],\n",
              "       [    45,  22000],\n",
              "       [    29,  80000],\n",
              "       [    28,  87000],\n",
              "       [    19,  21000],\n",
              "       [    29,  83000],\n",
              "       [    27,  88000],\n",
              "       [    18,  52000],\n",
              "       [    27,  57000],\n",
              "       [    35,  75000],\n",
              "       [    35,  38000],\n",
              "       [    20,  36000],\n",
              "       [    27,  84000],\n",
              "       [    22,  63000],\n",
              "       [    30,  62000],\n",
              "       [    37,  72000],\n",
              "       [    40,  47000],\n",
              "       [    21,  88000],\n",
              "       [    31,  15000],\n",
              "       [    30, 116000],\n",
              "       [    34, 115000],\n",
              "       [    26,  52000],\n",
              "       [    41,  59000],\n",
              "       [    32,  86000],\n",
              "       [    35,  27000],\n",
              "       [    28,  79000],\n",
              "       [    24,  58000],\n",
              "       [    35,  20000],\n",
              "       [    36,  75000],\n",
              "       [    25,  90000],\n",
              "       [    35, 108000],\n",
              "       [    21,  72000],\n",
              "       [    30,  87000],\n",
              "       [    26,  80000],\n",
              "       [    45,  26000],\n",
              "       [    26,  72000],\n",
              "       [    21,  68000],\n",
              "       [    35,  23000],\n",
              "       [    46,  59000],\n",
              "       [    30,  17000],\n",
              "       [    27,  90000],\n",
              "       [    29,  43000],\n",
              "       [    42,  80000],\n",
              "       [    41,  45000],\n",
              "       [    27, 137000],\n",
              "       [    31,  34000],\n",
              "       [    26,  32000],\n",
              "       [    23,  28000],\n",
              "       [    21,  16000],\n",
              "       [    35,  59000],\n",
              "       [    29, 148000],\n",
              "       [    41,  30000],\n",
              "       [    31,  18000],\n",
              "       [    28,  37000],\n",
              "       [    20,  49000],\n",
              "       [    26,  17000],\n",
              "       [    40,  57000],\n",
              "       [    29,  61000],\n",
              "       [    34,  43000],\n",
              "       [    20,  23000],\n",
              "       [    22,  27000],\n",
              "       [    47,  20000],\n",
              "       [    18,  86000],\n",
              "       [    39,  42000],\n",
              "       [    33,  41000],\n",
              "       [    34,  72000],\n",
              "       [    28,  32000],\n",
              "       [    27,  31000],\n",
              "       [    22,  18000],\n",
              "       [    19,  85000],\n",
              "       [    26,  81000],\n",
              "       [    25,  80000],\n",
              "       [    28,  85000],\n",
              "       [    33,  28000],\n",
              "       [    47,  49000],\n",
              "       [    35,  65000],\n",
              "       [    33, 149000],\n",
              "       [    23,  82000],\n",
              "       [    29,  43000],\n",
              "       [    36,  52000],\n",
              "       [    27,  54000],\n",
              "       [    26, 118000]])"
            ]
          },
          "metadata": {},
          "execution_count": 8
        }
      ]
    },
    {
      "cell_type": "code",
      "source": [
        "from sklearn.preprocessing import StandardScaler\n",
        "sc = StandardScaler()\n",
        "X_train = sc.fit_transform(X_train)\n",
        "X_test = sc.transform(X_test)"
      ],
      "metadata": {
        "id": "hqe_JepVXUH8"
      },
      "execution_count": 9,
      "outputs": []
    },
    {
      "cell_type": "code",
      "source": [
        "X_train"
      ],
      "metadata": {
        "colab": {
          "base_uri": "https://localhost:8080/"
        },
        "id": "6EIbLFqBXc1E",
        "outputId": "3291db63-80cb-454c-f05d-1e78aa34da5a"
      },
      "execution_count": 10,
      "outputs": [
        {
          "output_type": "execute_result",
          "data": {
            "text/plain": [
              "array([[-0.83290811, -1.11270551],\n",
              "       [-0.0322416 ,  0.62614933],\n",
              "       [-0.83290811, -0.17639906],\n",
              "       [ 0.63498049, -1.17958454],\n",
              "       [-1.36668578,  0.45895175],\n",
              "       [ 2.10286908, -1.24646357],\n",
              "       [ 0.10120281,  0.45895175],\n",
              "       [ 0.90186932, -0.17639906],\n",
              "       [-0.43257486, -1.44710067],\n",
              "       [-0.96635253, -0.41047567],\n",
              "       [ 0.10120281, -0.07608051],\n",
              "       [ 0.23464723,  1.89685094],\n",
              "       [-0.56601928, -1.48054019],\n",
              "       [ 2.36975792, -1.04582648],\n",
              "       [ 0.10120281,  0.52583078],\n",
              "       [-1.36668578,  0.72646788],\n",
              "       [-0.43257486, -0.07608051],\n",
              "       [ 0.90186932, -0.91206841],\n",
              "       [-1.63357462, -0.54423374],\n",
              "       [ 1.03531374,  0.02423804],\n",
              "       [-0.29913044, -0.04264099],\n",
              "       [ 0.63498049, -0.34359664],\n",
              "       [-1.09979695,  0.69302836],\n",
              "       [ 0.63498049, -0.24327809],\n",
              "       [-0.0322416 ,  0.96054449],\n",
              "       [ 0.10120281,  0.3586332 ],\n",
              "       [-0.56601928,  0.86022594],\n",
              "       [-1.63357462,  0.72646788],\n",
              "       [ 2.2363135 , -1.01238696],\n",
              "       [-0.29913044, -0.04264099],\n",
              "       [ 1.30220258, -0.04264099],\n",
              "       [-0.69946369,  0.62614933],\n",
              "       [-0.29913044,  0.96054449],\n",
              "       [-0.43257486,  0.96054449],\n",
              "       [-0.96635253,  0.19143562],\n",
              "       [-0.56601928, -0.57767325],\n",
              "       [ 0.23464723,  1.89685094],\n",
              "       [ 0.50153607, -0.57767325],\n",
              "       [ 1.56909141,  0.1579961 ],\n",
              "       [-0.0322416 , -1.5139797 ],\n",
              "       [-0.56601928,  0.65958885],\n",
              "       [-1.36668578,  0.72646788],\n",
              "       [ 0.36809165,  1.76309288],\n",
              "       [-1.5001302 , -1.14614503],\n",
              "       [-0.69946369, -1.27990309],\n",
              "       [ 0.63498049,  0.3586332 ],\n",
              "       [ 1.16875816,  0.02423804],\n",
              "       [-0.16568602, -1.07926599],\n",
              "       [ 0.90186932,  0.3586332 ],\n",
              "       [-0.16568602,  0.49239126],\n",
              "       [-0.83290811,  0.79334691],\n",
              "       [-0.83290811, -0.94550793],\n",
              "       [-1.5001302 , -1.38022164],\n",
              "       [-0.16568602,  0.75990739],\n",
              "       [ 1.03531374,  0.65958885],\n",
              "       [ 0.63498049, -0.54423374],\n",
              "       [ 3.83764652,  0.75990739],\n",
              "       [-1.63357462,  0.25831465],\n",
              "       [ 0.36809165, -0.31015712],\n",
              "       [ 0.10120281,  0.25831465],\n",
              "       [ 0.10120281,  0.96054449],\n",
              "       [-0.0322416 ,  2.49876223],\n",
              "       [ 0.10120281,  1.93029046],\n",
              "       [ 0.23464723, -1.41366116],\n",
              "       [-0.56601928, -1.5139797 ],\n",
              "       [ 1.96942466, -1.27990309],\n",
              "       [ 0.10120281,  0.19143562],\n",
              "       [-0.29913044, -0.17639906],\n",
              "       [ 1.96942466, -1.27990309],\n",
              "       [-0.16568602,  0.65958885],\n",
              "       [-0.29913044,  0.89366546],\n",
              "       [-1.5001302 , -1.31334261],\n",
              "       [-0.16568602,  0.75990739],\n",
              "       [-0.43257486,  0.92710497],\n",
              "       [-1.63357462, -0.27671761],\n",
              "       [-0.43257486, -0.10952003],\n",
              "       [ 0.63498049,  0.49239126],\n",
              "       [ 0.63498049, -0.74487083],\n",
              "       [-1.36668578, -0.81174986],\n",
              "       [-0.43257486,  0.79334691],\n",
              "       [-1.09979695,  0.09111707],\n",
              "       [-0.0322416 ,  0.05767755],\n",
              "       [ 0.90186932,  0.39207272],\n",
              "       [ 1.30220258, -0.44391519],\n",
              "       [-1.23324137,  0.92710497],\n",
              "       [ 0.10120281, -1.5139797 ],\n",
              "       [-0.0322416 ,  1.86341143],\n",
              "       [ 0.50153607,  1.82997191],\n",
              "       [-0.56601928, -0.27671761],\n",
              "       [ 1.43564699, -0.04264099],\n",
              "       [ 0.23464723,  0.86022594],\n",
              "       [ 0.63498049, -1.11270551],\n",
              "       [-0.29913044,  0.62614933],\n",
              "       [-0.83290811, -0.07608051],\n",
              "       [ 0.63498049, -1.34678212],\n",
              "       [ 0.7684249 ,  0.49239126],\n",
              "       [-0.69946369,  0.99398401],\n",
              "       [ 0.63498049,  1.5958953 ],\n",
              "       [-1.23324137,  0.39207272],\n",
              "       [-0.0322416 ,  0.89366546],\n",
              "       [-0.56601928,  0.65958885],\n",
              "       [ 1.96942466, -1.14614503],\n",
              "       [-0.56601928,  0.39207272],\n",
              "       [-1.23324137,  0.25831465],\n",
              "       [ 0.63498049, -1.24646357],\n",
              "       [ 2.10286908, -0.04264099],\n",
              "       [-0.0322416 , -1.44710067],\n",
              "       [-0.43257486,  0.99398401],\n",
              "       [-0.16568602, -0.57767325],\n",
              "       [ 1.56909141,  0.65958885],\n",
              "       [ 1.43564699, -0.51079422],\n",
              "       [-0.43257486,  2.56564127],\n",
              "       [ 0.10120281, -0.8786289 ],\n",
              "       [-0.56601928, -0.94550793],\n",
              "       [-0.96635253, -1.07926599],\n",
              "       [-1.23324137, -1.48054019],\n",
              "       [ 0.63498049, -0.04264099],\n",
              "       [-0.16568602,  2.93347594],\n",
              "       [ 1.43564699, -1.01238696],\n",
              "       [ 0.10120281, -1.41366116],\n",
              "       [-0.29913044, -0.77831035],\n",
              "       [-1.36668578, -0.37703616],\n",
              "       [-0.56601928, -1.44710067],\n",
              "       [ 1.30220258, -0.10952003],\n",
              "       [-0.16568602,  0.02423804],\n",
              "       [ 0.50153607, -0.57767325],\n",
              "       [-1.36668578, -1.24646357],\n",
              "       [-1.09979695, -1.11270551],\n",
              "       [ 2.2363135 , -1.34678212],\n",
              "       [-1.63357462,  0.86022594],\n",
              "       [ 1.16875816, -0.61111277],\n",
              "       [ 0.36809165, -0.64455228],\n",
              "       [ 0.50153607,  0.39207272],\n",
              "       [-0.29913044, -0.94550793],\n",
              "       [-0.43257486, -0.97894745],\n",
              "       [-1.09979695, -1.41366116],\n",
              "       [-1.5001302 ,  0.82678643],\n",
              "       [-0.56601928,  0.69302836],\n",
              "       [-0.69946369,  0.65958885],\n",
              "       [-0.29913044,  0.82678643],\n",
              "       [ 0.36809165, -1.07926599],\n",
              "       [ 2.2363135 , -0.37703616],\n",
              "       [ 0.63498049,  0.1579961 ],\n",
              "       [ 0.36809165,  2.96691546],\n",
              "       [-0.96635253,  0.72646788],\n",
              "       [-0.16568602, -0.57767325],\n",
              "       [ 0.7684249 , -0.27671761],\n",
              "       [-0.43257486, -0.20983857],\n",
              "       [-0.56601928,  1.93029046]])"
            ]
          },
          "metadata": {},
          "execution_count": 10
        }
      ]
    },
    {
      "cell_type": "code",
      "source": [
        "from sklearn.neighbors import KNeighborsClassifier\n",
        "classifier = KNeighborsClassifier(n_neighbors = 5, metric = 'manhattan', p = 1)\n",
        "classifier.fit(X_train, y_train)"
      ],
      "metadata": {
        "colab": {
          "base_uri": "https://localhost:8080/",
          "height": 75
        },
        "id": "2DzyDtCtXc6_",
        "outputId": "c9f2eacb-2445-4641-e378-9c9e48f4089c"
      },
      "execution_count": 11,
      "outputs": [
        {
          "output_type": "execute_result",
          "data": {
            "text/plain": [
              "KNeighborsClassifier(metric='manhattan', p=1)"
            ],
            "text/html": [
              "<style>#sk-container-id-1 {color: black;background-color: white;}#sk-container-id-1 pre{padding: 0;}#sk-container-id-1 div.sk-toggleable {background-color: white;}#sk-container-id-1 label.sk-toggleable__label {cursor: pointer;display: block;width: 100%;margin-bottom: 0;padding: 0.3em;box-sizing: border-box;text-align: center;}#sk-container-id-1 label.sk-toggleable__label-arrow:before {content: \"▸\";float: left;margin-right: 0.25em;color: #696969;}#sk-container-id-1 label.sk-toggleable__label-arrow:hover:before {color: black;}#sk-container-id-1 div.sk-estimator:hover label.sk-toggleable__label-arrow:before {color: black;}#sk-container-id-1 div.sk-toggleable__content {max-height: 0;max-width: 0;overflow: hidden;text-align: left;background-color: #f0f8ff;}#sk-container-id-1 div.sk-toggleable__content pre {margin: 0.2em;color: black;border-radius: 0.25em;background-color: #f0f8ff;}#sk-container-id-1 input.sk-toggleable__control:checked~div.sk-toggleable__content {max-height: 200px;max-width: 100%;overflow: auto;}#sk-container-id-1 input.sk-toggleable__control:checked~label.sk-toggleable__label-arrow:before {content: \"▾\";}#sk-container-id-1 div.sk-estimator input.sk-toggleable__control:checked~label.sk-toggleable__label {background-color: #d4ebff;}#sk-container-id-1 div.sk-label input.sk-toggleable__control:checked~label.sk-toggleable__label {background-color: #d4ebff;}#sk-container-id-1 input.sk-hidden--visually {border: 0;clip: rect(1px 1px 1px 1px);clip: rect(1px, 1px, 1px, 1px);height: 1px;margin: -1px;overflow: hidden;padding: 0;position: absolute;width: 1px;}#sk-container-id-1 div.sk-estimator {font-family: monospace;background-color: #f0f8ff;border: 1px dotted black;border-radius: 0.25em;box-sizing: border-box;margin-bottom: 0.5em;}#sk-container-id-1 div.sk-estimator:hover {background-color: #d4ebff;}#sk-container-id-1 div.sk-parallel-item::after {content: \"\";width: 100%;border-bottom: 1px solid gray;flex-grow: 1;}#sk-container-id-1 div.sk-label:hover label.sk-toggleable__label {background-color: #d4ebff;}#sk-container-id-1 div.sk-serial::before {content: \"\";position: absolute;border-left: 1px solid gray;box-sizing: border-box;top: 0;bottom: 0;left: 50%;z-index: 0;}#sk-container-id-1 div.sk-serial {display: flex;flex-direction: column;align-items: center;background-color: white;padding-right: 0.2em;padding-left: 0.2em;position: relative;}#sk-container-id-1 div.sk-item {position: relative;z-index: 1;}#sk-container-id-1 div.sk-parallel {display: flex;align-items: stretch;justify-content: center;background-color: white;position: relative;}#sk-container-id-1 div.sk-item::before, #sk-container-id-1 div.sk-parallel-item::before {content: \"\";position: absolute;border-left: 1px solid gray;box-sizing: border-box;top: 0;bottom: 0;left: 50%;z-index: -1;}#sk-container-id-1 div.sk-parallel-item {display: flex;flex-direction: column;z-index: 1;position: relative;background-color: white;}#sk-container-id-1 div.sk-parallel-item:first-child::after {align-self: flex-end;width: 50%;}#sk-container-id-1 div.sk-parallel-item:last-child::after {align-self: flex-start;width: 50%;}#sk-container-id-1 div.sk-parallel-item:only-child::after {width: 0;}#sk-container-id-1 div.sk-dashed-wrapped {border: 1px dashed gray;margin: 0 0.4em 0.5em 0.4em;box-sizing: border-box;padding-bottom: 0.4em;background-color: white;}#sk-container-id-1 div.sk-label label {font-family: monospace;font-weight: bold;display: inline-block;line-height: 1.2em;}#sk-container-id-1 div.sk-label-container {text-align: center;}#sk-container-id-1 div.sk-container {/* jupyter's `normalize.less` sets `[hidden] { display: none; }` but bootstrap.min.css set `[hidden] { display: none !important; }` so we also need the `!important` here to be able to override the default hidden behavior on the sphinx rendered scikit-learn.org. See: https://github.com/scikit-learn/scikit-learn/issues/21755 */display: inline-block !important;position: relative;}#sk-container-id-1 div.sk-text-repr-fallback {display: none;}</style><div id=\"sk-container-id-1\" class=\"sk-top-container\"><div class=\"sk-text-repr-fallback\"><pre>KNeighborsClassifier(metric=&#x27;manhattan&#x27;, p=1)</pre><b>In a Jupyter environment, please rerun this cell to show the HTML representation or trust the notebook. <br />On GitHub, the HTML representation is unable to render, please try loading this page with nbviewer.org.</b></div><div class=\"sk-container\" hidden><div class=\"sk-item\"><div class=\"sk-estimator sk-toggleable\"><input class=\"sk-toggleable__control sk-hidden--visually\" id=\"sk-estimator-id-1\" type=\"checkbox\" checked><label for=\"sk-estimator-id-1\" class=\"sk-toggleable__label sk-toggleable__label-arrow\">KNeighborsClassifier</label><div class=\"sk-toggleable__content\"><pre>KNeighborsClassifier(metric=&#x27;manhattan&#x27;, p=1)</pre></div></div></div></div></div>"
            ]
          },
          "metadata": {},
          "execution_count": 11
        }
      ]
    },
    {
      "cell_type": "code",
      "source": [
        "y_pred = classifier.predict(X_test)"
      ],
      "metadata": {
        "id": "t6xqE5AtXidb"
      },
      "execution_count": 12,
      "outputs": []
    },
    {
      "cell_type": "code",
      "source": [
        "print(y_pred)\n",
        "print(y_test)"
      ],
      "metadata": {
        "colab": {
          "base_uri": "https://localhost:8080/"
        },
        "id": "FuQC5sVOXoHi",
        "outputId": "b52c03c7-28e9-48db-d0f1-0a37cbfdf521"
      },
      "execution_count": 13,
      "outputs": [
        {
          "output_type": "stream",
          "name": "stdout",
          "text": [
            "[1 0 0 0 0 0 0 0 0 0 0 0 0 0 0 1 0 0 0 0 1 0 0 0 0 0 0 0 1 0 1 0 0 0 1 0 0\n",
            " 0 0 0 0 0 1 0 0 0 0 0 0 0]\n",
            "[1 0 0 0 0 0 0 0 0 1 0 0 0 0 0 1 0 0 0 0 1 0 0 0 0 0 0 0 1 0 1 0 0 0 1 0 0\n",
            " 0 1 0 0 0 1 0 1 1 0 1 0 0]\n"
          ]
        }
      ]
    },
    {
      "cell_type": "code",
      "source": [
        "from sklearn.metrics import confusion_matrix\n",
        "cm = confusion_matrix(y_test, y_pred)\n",
        "print(cm)"
      ],
      "metadata": {
        "colab": {
          "base_uri": "https://localhost:8080/"
        },
        "id": "j7OkMCMnXrzE",
        "outputId": "553540b1-f85c-4fe2-88f8-2ff80075b58a"
      },
      "execution_count": 14,
      "outputs": [
        {
          "output_type": "stream",
          "name": "stdout",
          "text": [
            "[[38  0]\n",
            " [ 5  7]]\n"
          ]
        }
      ]
    },
    {
      "cell_type": "code",
      "source": [
        "import seaborn as sns\n",
        "import matplotlib.pyplot as plt\n",
        "f, ax = plt.subplots(figsize=(8,5))\n",
        "sns.heatmap(confusion_matrix(y_test, y_pred), annot=True, fmt=\".0f\", ax=ax)\n",
        "plt.xlabel(\"y_pred\")\n",
        "plt.ylabel(\"y_true\")\n",
        "plt.show()"
      ],
      "metadata": {
        "colab": {
          "base_uri": "https://localhost:8080/",
          "height": 465
        },
        "id": "6bvK4KZHXr5j",
        "outputId": "6806e5f4-09f2-48df-f9e8-f887f09068bd"
      },
      "execution_count": 15,
      "outputs": [
        {
          "output_type": "display_data",
          "data": {
            "text/plain": [
              "<Figure size 800x500 with 2 Axes>"
            ],
            "image/png": "[encoded data removed]"
          },
          "metadata": {}
        }
      ]
    },
    {
      "cell_type": "code",
      "source": [
        "from sklearn.metrics import classification_report\n",
        "print (classification_report(y_test, y_pred))"
      ],
      "metadata": {
        "colab": {
          "base_uri": "https://localhost:8080/"
        },
        "id": "jP8SzFlVXxGp",
        "outputId": "a8b2cb62-7f6e-4633-c5f6-8b1227ae2c26"
      },
      "execution_count": 16,
      "outputs": [
        {
          "output_type": "stream",
          "name": "stdout",
          "text": [
            "              precision    recall  f1-score   support\n",
            "\n",
            "           0       0.88      1.00      0.94        38\n",
            "           1       1.00      0.58      0.74        12\n",
            "\n",
            "    accuracy                           0.90        50\n",
            "   macro avg       0.94      0.79      0.84        50\n",
            "weighted avg       0.91      0.90      0.89        50\n",
            "\n"
          ]
        }
      ]
    },
    {
      "cell_type": "code",
      "source": [
        "from matplotlib.colors import ListedColormap\n",
        "X_set, y_set = X_train, y_train\n",
        "X1, X2 = np.meshgrid(np.arange(start = X_set[:, 0].min() - 1, stop = X_set[:, 0].max() + 1, step = 0.01),\n",
        "                     np.arange(start = X_set[:, 1].min() - 1, stop = X_set[:, 1].max() + 1, step = 0.01))\n",
        "plt.contourf(X1, X2, classifier.predict(np.array([X1.ravel(), X2.ravel()]).T).reshape(X1.shape),\n",
        "             alpha = 0.75, cmap = ListedColormap(('red', 'green')))\n",
        "plt.xlim(X1.min(), X1.max())\n",
        "plt.ylim(X2.min(), X2.max())\n",
        "for i, j in enumerate(np.unique(y_set)):\n",
        "    plt.scatter(X_set[y_set == j, 0], X_set[y_set == j, 1],\n",
        "                c = ListedColormap(('red', 'green'))(i), label = j)\n",
        "plt.title('K-NN (Training set)')\n",
        "plt.xlabel('Age')\n",
        "plt.ylabel('Estimated Salary')\n",
        "plt.legend()\n",
        "plt.show()"
      ],
      "metadata": {
        "colab": {
          "base_uri": "https://localhost:8080/",
          "height": 527
        },
        "id": "LH1eGYBzXxbo",
        "outputId": "cc11df6d-1ed3-4af9-875c-c176157e55c4"
      },
      "execution_count": 17,
      "outputs": [
        {
          "output_type": "stream",
          "name": "stderr",
          "text": [
            "<ipython-input-17-db5b0d75197c>:10: UserWarning: *c* argument looks like a single numeric RGB or RGBA sequence, which should be avoided as value-mapping will have precedence in case its length matches with *x* & *y*.  Please use the *color* keyword-argument or provide a 2D array with a single row if you intend to specify the same RGB or RGBA value for all points.\n",
            "  plt.scatter(X_set[y_set == j, 0], X_set[y_set == j, 1],\n"
          ]
        },
        {
          "output_type": "display_data",
          "data": {
            "text/plain": [
              "<Figure size 640x480 with 1 Axes>"
            ],
            "image/png": "[encoded data removed]"
          },
          "metadata": {}
        }
      ]
    }
  ]
}